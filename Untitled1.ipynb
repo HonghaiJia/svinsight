{
 "cells": [
  {
   "cell_type": "code",
   "execution_count": 4,
   "id": "b9d5940c",
   "metadata": {},
   "outputs": [],
   "source": [
    "from nrlog import NrLog"
   ]
  },
  {
   "cell_type": "code",
   "execution_count": 5,
   "id": "9e76fbc9",
   "metadata": {},
   "outputs": [
    {
     "name": "stdout",
     "output_type": "stream",
     "text": [
      "processed 1 of total 25 files\n",
      "processed 2 of total 25 files\n",
      "processed 3 of total 25 files\n",
      "processed 4 of total 25 files\n",
      "processed 5 of total 25 files\n",
      "processed 6 of total 25 files\n",
      "processed 7 of total 25 files\n",
      "processed 8 of total 25 files\n",
      "processed 9 of total 25 files\n",
      "processed 10 of total 25 files\n",
      "processed 11 of total 25 files\n",
      "processed 12 of total 25 files\n",
      "processed 13 of total 25 files\n",
      "processed 14 of total 25 files\n",
      "processed 15 of total 25 files\n",
      "processed 16 of total 25 files\n",
      "processed 17 of total 25 files\n",
      "processed 18 of total 25 files\n",
      "processed 19 of total 25 files\n",
      "processed 20 of total 25 files\n",
      "processed 21 of total 25 files\n",
      "processed 22 of total 25 files\n",
      "processed 23 of total 25 files\n",
      "processed 24 of total 25 files\n",
      "processed 25 of total 25 files\n",
      "!!Done!!\n",
      "Load 1 of total 25 files\n",
      "Load 2 of total 25 files\n",
      "Load 3 of total 25 files\n",
      "Load 4 of total 25 files\n",
      "Load 5 of total 25 files\n",
      "Load 6 of total 25 files\n",
      "Load 7 of total 25 files\n",
      "Load 8 of total 25 files\n",
      "Load 9 of total 25 files\n",
      "Load 10 of total 25 files\n",
      "Load 11 of total 25 files\n",
      "Load 12 of total 25 files\n",
      "Load 13 of total 25 files\n",
      "Load 14 of total 25 files\n",
      "Load 15 of total 25 files\n",
      "Load 16 of total 25 files\n",
      "Load 17 of total 25 files\n",
      "Load 18 of total 25 files\n",
      "Load 19 of total 25 files\n",
      "Load 20 of total 25 files\n",
      "Load 21 of total 25 files\n",
      "Load 22 of total 25 files\n",
      "Load 23 of total 25 files\n",
      "Load 24 of total 25 files\n",
      "Load 25 of total 25 files\n"
     ]
    }
   ],
   "source": [
    "svlog = NrLog(r\"D:\\svlog\\20210508181215_2UeSrMax\")"
   ]
  },
  {
   "cell_type": "code",
   "execution_count": 7,
   "id": "ad1b07ca",
   "metadata": {},
   "outputs": [
    {
     "data": {
      "text/html": [
       "<div>\n",
       "<style scoped>\n",
       "    .dataframe tbody tr th:only-of-type {\n",
       "        vertical-align: middle;\n",
       "    }\n",
       "\n",
       "    .dataframe tbody tr th {\n",
       "        vertical-align: top;\n",
       "    }\n",
       "\n",
       "    .dataframe thead th {\n",
       "        text-align: right;\n",
       "    }\n",
       "</style>\n",
       "<table border=\"1\" class=\"dataframe\">\n",
       "  <thead>\n",
       "    <tr style=\"text-align: right;\">\n",
       "      <th></th>\n",
       "      <th>size</th>\n",
       "      <th>num_of_files</th>\n",
       "      <th>num_of_lines</th>\n",
       "      <th>starttime</th>\n",
       "      <th>endtime</th>\n",
       "    </tr>\n",
       "    <tr>\n",
       "      <th>filename</th>\n",
       "      <th></th>\n",
       "      <th></th>\n",
       "      <th></th>\n",
       "      <th></th>\n",
       "      <th></th>\n",
       "    </tr>\n",
       "  </thead>\n",
       "  <tbody>\n",
       "    <tr>\n",
       "      <th>CMAC_dlUeTtiInfo</th>\n",
       "      <td>662733129.0</td>\n",
       "      <td>25.0</td>\n",
       "      <td>2137863.0</td>\n",
       "      <td>2021-05-09 01:53:11.190</td>\n",
       "      <td>2021-05-09 02:02:20.673</td>\n",
       "    </tr>\n",
       "  </tbody>\n",
       "</table>\n",
       "</div>"
      ],
      "text/plain": [
       "                         size  num_of_files  num_of_lines  \\\n",
       "filename                                                    \n",
       "CMAC_dlUeTtiInfo  662733129.0          25.0     2137863.0   \n",
       "\n",
       "                               starttime                 endtime  \n",
       "filename                                                          \n",
       "CMAC_dlUeTtiInfo 2021-05-09 01:53:11.190 2021-05-09 02:02:20.673  "
      ]
     },
     "execution_count": 7,
     "metadata": {},
     "output_type": "execute_result"
    }
   ],
   "source": [
    "svlog.describle()"
   ]
  },
  {
   "cell_type": "code",
   "execution_count": null,
   "id": "5d75fcf1",
   "metadata": {},
   "outputs": [],
   "source": [
    "svlog."
   ]
  }
 ],
 "metadata": {
  "kernelspec": {
   "display_name": "Python 3",
   "language": "python",
   "name": "python3"
  },
  "language_info": {
   "codemirror_mode": {
    "name": "ipython",
    "version": 3
   },
   "file_extension": ".py",
   "mimetype": "text/x-python",
   "name": "python",
   "nbconvert_exporter": "python",
   "pygments_lexer": "ipython3",
   "version": "3.7.6"
  }
 },
 "nbformat": 4,
 "nbformat_minor": 5
}
